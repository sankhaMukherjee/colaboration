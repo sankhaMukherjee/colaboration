{
 "cells": [
  {
   "cell_type": "code",
   "execution_count": 2,
   "metadata": {},
   "outputs": [],
   "source": [
    "data = ['''\n",
    "[[0.19 0.1  0.1  0.1  0.1  0.2 ]\n",
    " [0.2  0.2  0.1  0.1  0.2  0.18]\n",
    " [0.1  0.1  0.1  0.1  0.1  0.2 ]\n",
    " [0.1  0.1  0.1  0.2  0.2  0.3 ]\n",
    " [0.1  0.1  0.2  0.1  0.1  0.1 ]\n",
    " [0.1  0.1  0.2  0.1  0.2  0.3 ]]\n",
    "''',\n",
    "'''\n",
    "[[0.0186 0.0099 0.0138 0.0071 0.0129 0.0161]\n",
    " [0.0175 0.0149 0.0176 0.0058 0.0161 0.0122]\n",
    " [0.0141 0.0065 0.0127 0.0149 0.0063 0.0145]\n",
    " [0.0128 0.0111 0.0103 0.0202 0.0138 0.0212]\n",
    " [0.01   0.0127 0.0103 0.0059 0.0067 0.0183]\n",
    " [0.0195 0.0093 0.0138 0.0186 0.015  0.013 ]]\n",
    "''',\n",
    "'''\n",
    "[[0.04677649 0.03609695 0.04039257 0.03299379 0.03942829 0.04837138]\n",
    " [0.04794528 0.04311601 0.04247635 0.03344189 0.04449483 0.04013926]\n",
    " [0.04049926 0.03259985 0.03926462 0.04121881 0.03161187 0.04352873]\n",
    " [0.03831658 0.03854595 0.0371606  0.04615149 0.04562412 0.05557482]\n",
    " [0.03605551 0.0390091  0.04112068 0.0310836  0.03283459 0.04315217]\n",
    " [0.04398579 0.03606258 0.04256243 0.04322083 0.04260282 0.04594562]]\n",
    "''',\n",
    "'''\n",
    "[[0.2  0.1  0.2  0.1  0.1  0.3 ]\n",
    " [0.2  0.3  0.1  0.1  0.19 0.2 ]\n",
    " [0.1  0.1  0.1  0.1  0.1  0.3 ]\n",
    " [0.1  0.2  0.1  0.19 0.2  0.2 ]\n",
    " [0.1  0.19 0.1  0.1  0.1  0.1 ]\n",
    " [0.19 0.2  0.19 0.1  0.19 0.2 ]]\n",
    "''',\n",
    "'''\n",
    "[[0.0134 0.0071 0.0142 0.0109 0.0101 0.013 ]\n",
    " [0.0064 0.0142 0.0094 0.0102 0.0109 0.0067]\n",
    " [0.0028 0.0085 0.0043 0.0051 0.0086 0.0096]\n",
    " [0.0092 0.0079 0.0107 0.0158 0.0162 0.0109]\n",
    " [0.014  0.0143 0.0157 0.0091 0.0093 0.0107]\n",
    " [0.0125 0.0147 0.0112 0.0044 0.013  0.0111]]\n",
    "''',\n",
    "'''\n",
    "[[0.04545811 0.03359449 0.04214689 0.03663591 0.03601375 0.04869292]\n",
    " [0.0357357  0.04976304 0.03629931 0.03526982 0.03952455 0.03602929]\n",
    " [0.02856851 0.03525266 0.02997516 0.03151174 0.03563762 0.04406631]\n",
    " [0.03665188 0.03672315 0.03658565 0.04373054 0.04863702 0.03977675]\n",
    " [0.04004997 0.04233804 0.04143079 0.03544277 0.03536255 0.03779564]\n",
    " [0.04133703 0.04491002 0.03940254 0.03109084 0.04184495 0.04019689]]\n",
    " ''']"
   ]
  },
  {
   "cell_type": "code",
   "execution_count": 12,
   "metadata": {},
   "outputs": [],
   "source": [
    "import numpy as np\n",
    "import matplotlib.pyplot as plt"
   ]
  },
  {
   "cell_type": "code",
   "execution_count": 18,
   "metadata": {},
   "outputs": [
    {
     "data": {
      "text/plain": [
       "<matplotlib.image.AxesImage at 0x114c842e8>"
      ]
     },
     "execution_count": 18,
     "metadata": {},
     "output_type": "execute_result"
    },
    {
     "data": {
      "image/png": "[encoded data removed]",
      "text/plain": [
       "<Figure size 432x288 with 1 Axes>"
      ]
     },
     "metadata": {
      "image/png": {
       "height": 250,
       "width": 247
      },
      "needs_background": "light"
     },
     "output_type": "display_data"
    }
   ],
   "source": [
    "i = 1\n",
    "d1 = [ [float(n) for n in m.strip('[] ').split()] for m in  data[i].split('\\n')[1:-1]]\n",
    "d1 = np.array(d1)\n",
    "plt.imshow(d1, cmap=plt.cm.hot)"
   ]
  },
  {
   "cell_type": "code",
   "execution_count": 16,
   "metadata": {},
   "outputs": [
    {
     "data": {
      "text/plain": [
       "array([list([]), list([0.0186, 0.0099, 0.0138, 0.0071, 0.0129, 0.0161]),\n",
       "       list([0.0175, 0.0149, 0.0176, 0.0058, 0.0161, 0.0122]),\n",
       "       list([0.0141, 0.0065, 0.0127, 0.0149, 0.0063, 0.0145]),\n",
       "       list([0.0128, 0.0111, 0.0103, 0.0202, 0.0138, 0.0212]),\n",
       "       list([0.01, 0.0127, 0.0103, 0.0059, 0.0067, 0.0183]),\n",
       "       list([0.0195, 0.0093, 0.0138, 0.0186, 0.015, 0.013])], dtype=object)"
      ]
     },
     "execution_count": 16,
     "metadata": {},
     "output_type": "execute_result"
    }
   ],
   "source": [
    "d1"
   ]
  },
  {
   "cell_type": "code",
   "execution_count": null,
   "metadata": {},
   "outputs": [],
   "source": []
  }
 ],
 "metadata": {
  "kernelspec": {
   "display_name": "Python 3",
   "language": "python",
   "name": "python3"
  },
  "language_info": {
   "codemirror_mode": {
    "name": "ipython",
    "version": 3
   },
   "file_extension": ".py",
   "mimetype": "text/x-python",
   "name": "python",
   "nbconvert_exporter": "python",
   "pygments_lexer": "ipython3",
   "version": "3.6.5"
  }
 },
 "nbformat": 4,
 "nbformat_minor": 2
}
