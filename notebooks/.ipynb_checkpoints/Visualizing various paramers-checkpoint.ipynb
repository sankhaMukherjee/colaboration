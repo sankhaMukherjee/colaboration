{
 "cells": [
  {
   "cell_type": "code",
   "execution_count": 5,
   "metadata": {},
   "outputs": [],
   "source": [
    "import numpy as np\n",
    "import matplotlib.pyplot as plt"
   ]
  },
  {
   "cell_type": "code",
   "execution_count": 6,
   "metadata": {},
   "outputs": [],
   "source": [
    "reward = ''' 0.    0.    0.    0.    0.    0.    0.    0.    0.    0.    0.    0.\n",
    "  0.    0.    0.    0.    0.1   0.    0.    0.    0.    0.    0.    0.\n",
    "  0.    0.    0.    0.    0.    0.    0.    0.    0.    0.    0.    0.\n",
    "  0.    0.    0.    0.    0.    0.    0.    0.    0.    0.    0.    0.\n",
    "  0.    0.    0.    0.    0.    0.    0.    0.    0.    0.    0.1   0.\n",
    "  0.    0.    0.    0.    0.    0.    0.    0.    0.    0.    0.    0.\n",
    "  0.    0.    0.    0.    0.    0.    0.    0.    0.    0.    0.    0.\n",
    "  0.    0.    0.    0.   -0.01'''\n",
    "\n",
    "reward = np.array([float(m) for m in reward.split()])"
   ]
  },
  {
   "cell_type": "code",
   "execution_count": 9,
   "metadata": {},
   "outputs": [],
   "source": [
    "totalHits = '''1, 1, 1, 1, 1, 1, 1, 1, 1, 1, 1, 1, 1, 1, 1, 1, 1, 2, 2, 2, 2, 2, 2, 2, 2, 2, 2, 2, 2, 2, 2, 2, 2, 2, 2, 2, 2, 2, 2, 2, 2, 2, 2, 2, 2, 2, 2, 2, 2, 2, 2, 2, 2, 2, 2, 2, 2, 2, 2, 0, 0, 0, 0, 0, 0, 0, 0, 0, 0, 0, 0, 0, 0, 0, 0, 0, 0, 0, 0, 0, 0, 0, 0, 0, 0, 0, 0, 0, 0'''\n",
    "totalHits = np.array([float(m) for m in totalHits.split(', ')])"
   ]
  },
  {
   "cell_type": "code",
   "execution_count": 13,
   "metadata": {},
   "outputs": [],
   "source": [
    "cumRewards1 = '''3.51873654e-03  4.39842067e-03  5.49802584e-03  6.87253230e-03\n",
    "  8.59066538e-03  1.07383317e-02  1.34229147e-02  1.67786433e-02\n",
    "  2.09733042e-02  2.62166302e-02  3.27707877e-02  4.09634847e-02\n",
    "  5.12043558e-02  6.40054448e-02  8.00068060e-02  1.00008507e-01\n",
    "  1.06325077e-05  1.32906347e-05  1.66132933e-05  2.07666166e-05\n",
    "  2.59582708e-05  3.24478385e-05  4.05597981e-05  5.06997477e-05\n",
    "  6.33746846e-05  7.92183557e-05  9.90229447e-05  1.23778681e-04\n",
    "  1.54723351e-04  1.93404189e-04  2.41755236e-04  3.02194045e-04\n",
    "  3.77742556e-04  4.72178195e-04  5.90222744e-04  7.37778430e-04\n",
    "  9.22223038e-04  1.15277880e-03  1.44097350e-03  1.80121687e-03\n",
    "  2.25152109e-03  2.81440136e-03  3.51800170e-03  4.39750212e-03\n",
    "  5.49687766e-03  6.87109707e-03  8.58887134e-03  1.07360892e-02\n",
    "  1.34201115e-02  1.67751393e-02  2.09689242e-02  2.62111552e-02\n",
    "  3.27639440e-02  4.09549300e-02  5.11936625e-02  6.39920781e-02\n",
    "  7.99900977e-02  9.99876221e-02 -1.54742501e-05 -1.93428127e-05\n",
    " -2.41785159e-05 -3.02231448e-05 -3.77789310e-05 -4.72236638e-05\n",
    " -5.90295797e-05 -7.37869746e-05 -9.22337183e-05 -1.15292148e-04\n",
    " -1.44115185e-04 -1.80143981e-04 -2.25179976e-04 -2.81474970e-04\n",
    " -3.51843713e-04 -4.39804641e-04 -5.49755802e-04 -6.87194752e-04\n",
    " -8.58993440e-04 -1.07374180e-03 -1.34217725e-03 -1.67772156e-03\n",
    " -2.09715195e-03 -2.62143994e-03 -3.27679993e-03 -4.09599991e-03\n",
    " -5.11999989e-03 -6.39999986e-03 -7.99999982e-03 -9.99999978e-03'''\n",
    "\n",
    "cumRewards1 = np.array([float(m) for m in cumRewards1.split()])"
   ]
  },
  {
   "cell_type": "code",
   "execution_count": 14,
   "metadata": {},
   "outputs": [],
   "source": [
    "cumRewards = '''0.19  0.19  0.19  0.19  0.19  0.19  0.19  0.19  0.19  0.19  0.19  0.19\n",
    "  0.19  0.19  0.19  0.19  0.09  0.09  0.09  0.09  0.09  0.09  0.09  0.09\n",
    "  0.09  0.09  0.09  0.09  0.09  0.09  0.09  0.09  0.09  0.09  0.09  0.09\n",
    "  0.09  0.09  0.09  0.09  0.09  0.09  0.09  0.09  0.09  0.09  0.09  0.09\n",
    "  0.09  0.09  0.09  0.09  0.09  0.09  0.09  0.09  0.09  0.09 -0.01 -0.01\n",
    " -0.01 -0.01 -0.01 -0.01 -0.01 -0.01 -0.01 -0.01 -0.01 -0.01 -0.01 -0.01\n",
    " -0.01 -0.01 -0.01 -0.01 -0.01 -0.01 -0.01 -0.01 -0.01 -0.01 -0.01 -0.01\n",
    " -0.01 -0.01 -0.01 -0.01'''\n",
    "\n",
    "cumRewards = np.array([float(m) for m in cumRewards.split() ])"
   ]
  },
  {
   "cell_type": "code",
   "execution_count": 45,
   "metadata": {},
   "outputs": [
    {
     "data": {
      "image/png": "[encoded data removed]",
      "text/plain": [
       "<Figure size 288x216 with 1 Axes>"
      ]
     },
     "metadata": {
      "needs_background": "light"
     },
     "output_type": "display_data"
    }
   ],
   "source": [
    "plt.figure(figsize=(4,3))\n",
    "plt.axes([0.17, 0.17, 0.76, 0.76])\n",
    "\n",
    "plt.axhline(0, color='black', lw=2)\n",
    "plt.axhline(0.03, color='black', lw=2)\n",
    "\n",
    "plt.axvline(10, ls= '-.', color='black', lw=0.2)\n",
    "plt.axvline(15, ls= '-.', color='black', lw=0.2)\n",
    "\n",
    "plt.axvline(52, ls= '-.', color='black', lw=0.2)\n",
    "plt.axvline(57, ls= '-.', color='black', lw=0.2)\n",
    "\n",
    "plt.xlim(0, 87)\n",
    "\n",
    "plt.plot(cumRewards, label='$\\gamma=1$')\n",
    "plt.plot(cumRewards1, label='$\\gamma=0.8$')\n",
    "\n",
    "plt.legend()\n",
    "\n",
    "plt.xlabel('$t$')\n",
    "plt.ylabel('cumulative reward')\n",
    "\n",
    "plt.savefig('cumReward.png', dpi=300)\n",
    "plt.show()\n",
    "plt.close('all')"
   ]
  },
  {
   "cell_type": "code",
   "execution_count": 26,
   "metadata": {},
   "outputs": [
    {
     "data": {
      "text/plain": [
       "(array([10, 11, 12, 13, 14, 15, 52, 53, 54, 55, 56, 57]),)"
      ]
     },
     "execution_count": 26,
     "metadata": {},
     "output_type": "execute_result"
    }
   ],
   "source": [
    "np.where(cumRewards1 > 0.03)"
   ]
  },
  {
   "cell_type": "code",
   "execution_count": 44,
   "metadata": {},
   "outputs": [
    {
     "data": {
      "image/png": "[encoded data removed]",
      "text/plain": [
       "<Figure size 288x216 with 1 Axes>"
      ]
     },
     "metadata": {
      "needs_background": "light"
     },
     "output_type": "display_data"
    }
   ],
   "source": [
    "plt.figure(figsize=(4,3))\n",
    "plt.axes([0.17, 0.17, 0.76, 0.76])\n",
    "\n",
    "plt.plot(totalHits)\n",
    "\n",
    "plt.axhline(0.03, color='black', lw=2)\n",
    "\n",
    "plt.axvline(10, ls= '-.', color='black', lw=0.2)\n",
    "plt.axvline(15, ls= '-.', color='black', lw=0.2)\n",
    "\n",
    "plt.axvline(52, ls= '-.', color='black', lw=0.2)\n",
    "plt.axvline(57, ls= '-.', color='black', lw=0.2)\n",
    "\n",
    "plt.xlim(0, 87)\n",
    "\n",
    "plt.xlabel('$t$')\n",
    "plt.ylabel('number of hits')\n",
    "\n",
    "plt.savefig('numHits.png', dpi=300)\n",
    "plt.show()\n",
    "plt.close('all')\n"
   ]
  },
  {
   "cell_type": "code",
   "execution_count": 29,
   "metadata": {},
   "outputs": [
    {
     "data": {
      "text/plain": [
       "89"
      ]
     },
     "execution_count": 29,
     "metadata": {},
     "output_type": "execute_result"
    }
   ],
   "source": [
    "len(reward)"
   ]
  },
  {
   "cell_type": "code",
   "execution_count": null,
   "metadata": {},
   "outputs": [],
   "source": []
  }
 ],
 "metadata": {
  "kernelspec": {
   "display_name": "Python 3",
   "language": "python",
   "name": "python3"
  },
  "language_info": {
   "codemirror_mode": {
    "name": "ipython",
    "version": 3
   },
   "file_extension": ".py",
   "mimetype": "text/x-python",
   "name": "python",
   "nbconvert_exporter": "python",
   "pygments_lexer": "ipython3",
   "version": "3.6.0"
  }
 },
 "nbformat": 4,
 "nbformat_minor": 2
}
